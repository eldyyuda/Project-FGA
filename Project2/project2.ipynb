{
 "cells": [
  {
   "cell_type": "markdown",
   "metadata": {},
   "source": [
    "## Buatlah sebuah implementasi OOP berupa class BankAccount yang dapat mencatat saldo dan tanggal transaksi terakhir dari pemilik akun."
   ]
  },
  {
   "cell_type": "code",
   "execution_count": 3,
   "metadata": {},
   "outputs": [],
   "source": [
    "from datetime import datetime\n",
    "\n",
    "class BankAccount:\n",
    "\n",
    "    __MIN_BALANCE = 50000\n",
    "\n",
    "# Pertama buatlah konstruktor dari class Bank berupa \n",
    "# 1. nama pemilik akun bank\n",
    "# 2. kode rekening bank\n",
    "# 3. tanggal transaksi terakhir\n",
    "# 4. saldo terakhir\n",
    "\n",
    "    def __init__(self, owner, account_number):\n",
    "        self.owner = owner\n",
    "        self.account_number  = account_number\n",
    "        self.date=\"\" \n",
    "        self.balance= __MIN_BALANCE\n",
    "\n",
    "\n",
    "# Kedua buatlah method untuk menambah uang ke dalam akun pemilik.\n",
    "    def deposit(self, amount):\n",
    "        amount=float(input(\"Masukkan jumlah uang: \"))\n",
    "        self.balance += amount\n",
    "        self.date=datetime.today().strftime('%Y-%m-%d %H:%M:%S')\n",
    "        print(\"\\n jumlah uang yang dimasukkan:\",amount)\n",
    "        \n",
    "\n",
    "# Ketiga buatlah method untuk melakukan penarikan uang dari akun pemilik.\n",
    "# Apabila pemilik ingin menarik uang lebih dari nilai saldo + minimal saldo maka transaksi gagal dan saldo tidak berubah.\n",
    "    def withdraw(self, amount):\n",
    "        amount = float(input(\"Masukkan jumlah uang yang ditarik: \"))\n",
    "        if self.balance>=amount:\n",
    "            self.balance-=amount\n",
    "            self.date=datetime.today().strftime('%Y-%m-%d %H:%M:%S')\n",
    "            print(\"\\n Jumlah uang yang ditarik:\", amount)\n",
    "        else:\n",
    "            print(\"\\n Saldo anda tidak cukup!!! \")\n",
    "\n",
    "# Keempat buatlah fungsi __str__ untuk mencetak informasi tentang objek pemilik akun\n",
    "    def __str__(self):\n",
    "        print(\"Name is: \" , self.owner)\n",
    "        print(\"Account Number: \" , self.account_number)\n",
    "        print(\"Balance: \" , self.balance)"
   ]
  },
  {
   "cell_type": "code",
   "execution_count": null,
   "metadata": {},
   "outputs": [],
   "source": []
  }
 ],
 "metadata": {
  "kernelspec": {
   "display_name": "Python 3.8.13 ('fga')",
   "language": "python",
   "name": "python3"
  },
  "language_info": {
   "codemirror_mode": {
    "name": "ipython",
    "version": 3
   },
   "file_extension": ".py",
   "mimetype": "text/x-python",
   "name": "python",
   "nbconvert_exporter": "python",
   "pygments_lexer": "ipython3",
   "version": "3.8.13"
  },
  "orig_nbformat": 4,
  "vscode": {
   "interpreter": {
    "hash": "0accf47fdef32e058d13e6c0d443354ce78dc54c6bbbf7c909539dede2bf7a7d"
   }
  }
 },
 "nbformat": 4,
 "nbformat_minor": 2
}
